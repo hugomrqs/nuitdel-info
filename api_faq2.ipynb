{
 "cells": [
  {
   "cell_type": "code",
   "execution_count": 1,
   "id": "1546a6ee",
   "metadata": {},
   "outputs": [],
   "source": [
    "import requests\n",
    "import urllib\n",
    "import pandas as pd\n",
    "from requests_html import HTML\n",
    "from requests_html import HTMLSession\n",
    "import difflib \n"
   ]
  },
  {
   "cell_type": "code",
   "execution_count": 2,
   "id": "39612219",
   "metadata": {},
   "outputs": [],
   "source": [
    "def get_source(url):\n",
    "    \"\"\"Return the source code for the provided URL. \n",
    "\n",
    "    Args: \n",
    "        url (string): URL of the page to scrape.\n",
    "\n",
    "    Returns:\n",
    "        response (object): HTTP response object from requests_html. \n",
    "    \"\"\"\n",
    "\n",
    "    try:\n",
    "        session = HTMLSession()\n",
    "        response = session.get(url)\n",
    "        return response\n",
    "\n",
    "    except requests.exceptions.RequestException as e:\n",
    "        print(e)"
   ]
  },
  {
   "cell_type": "code",
   "execution_count": 3,
   "id": "799593ba",
   "metadata": {},
   "outputs": [],
   "source": [
    "def scrape_google(query):\n",
    "\n",
    "    query = urllib.parse.quote_plus(query)\n",
    "    response = get_source(\"https://www.google.com/search?q=\" + query)\n",
    "\n",
    "    links = list(response.html.absolute_links)\n",
    "    google_domains = ('https://www.google.', \n",
    "                      'https://google.', \n",
    "                      'https://webcache.googleusercontent.', \n",
    "                      'http://webcache.googleusercontent.', \n",
    "                      'https://policies.google.',\n",
    "                      'https://support.google.',\n",
    "                      'https://maps.google.')\n",
    "\n",
    "    for url in links[:]:\n",
    "        if url.startswith(google_domains):\n",
    "            links.remove(url)\n",
    "\n",
    "    return links"
   ]
  },
  {
   "cell_type": "code",
   "execution_count": 4,
   "id": "973ae3cb",
   "metadata": {},
   "outputs": [
    {
     "data": {
      "text/plain": [
       "['https://www.tf1info.fr/sante/journee-mondiale-sexualite-sida-quels-sont-les-bons-reflexes-pour-eviter-le-vih-apres-un-rapport-non-protege-1507325.html',\n",
       " 'https://www.unaids.org/fr/topic/prevention',\n",
       " 'https://www.catie.ca/fr/safer-sex-guide/prevenir-linfection-par-le-vih',\n",
       " 'https://www.catie.ca/fr/client-publication/sept-facons-de-prevenir-le-vih#moyens',\n",
       " 'https://pvsq.org/prevenir-le-vih/',\n",
       " 'https://www.catie.ca/fr/client-publication/sept-facons-de-prevenir-le-vih',\n",
       " 'https://lasante.net/fiches-conseil/infos-pratiques/au-quotidien/prevention-sida-vih.htm',\n",
       " 'https://www.catie.ca/fr/client-publication/sept-facons-de-prevenir-le-vih#prep',\n",
       " 'https://cliniquelactuel.com/Comment_eviter_d_attraper_le_VIH_sida',\n",
       " 'http://www.actionpositive.ca/guide-vih/prevention/',\n",
       " 'https://www.ameli.fr/assure/sante/themes/vih/prevention',\n",
       " 'https://www.unaids.org/fr/frequently-asked-questions-about-hiv-and-aids']"
      ]
     },
     "execution_count": 4,
     "metadata": {},
     "output_type": "execute_result"
    }
   ],
   "source": [
    "scrape_google(\"comment eviter le sida ?\")"
   ]
  },
  {
   "cell_type": "code",
   "execution_count": 5,
   "id": "c3fde99d",
   "metadata": {},
   "outputs": [],
   "source": [
    "def get_results(query):\n",
    "    \n",
    "    query = urllib.parse.quote_plus(query)\n",
    "    response = get_source(\"https://www.google.fr/search?q=\" + query)\n",
    "    \n",
    "    return response"
   ]
  },
  {
   "cell_type": "code",
   "execution_count": 6,
   "id": "72425a96",
   "metadata": {},
   "outputs": [],
   "source": [
    "def parse_results(response):\n",
    "    \n",
    "    css_identifier_result = \".tF2Cxc\"\n",
    "    css_identifier_title = \"h3\"\n",
    "    css_identifier_link = \".yuRUbf a\"\n",
    "    css_identifier_text = \".VwiC3b\"\n",
    "    #title = response.html.find('title')\n",
    "    #print(title)\n",
    "    #print(title[0].text)\n",
    "    results = response.html.find(css_identifier_result)\n",
    "    output = []\n",
    "    \n",
    "    for result in results:###\n",
    "\n",
    "        item = {\n",
    "            'title': result.find(css_identifier_title, first=True).text,\n",
    "            'link': result.find(css_identifier_link, first=True).attrs['href'],\n",
    "            'text': result.find(css_identifier_text, first=True).text\n",
    "        }\n",
    "        \n",
    "        output.append(item)\n",
    "        \n",
    "    return output"
   ]
  },
  {
   "cell_type": "code",
   "execution_count": 7,
   "id": "d0771337",
   "metadata": {},
   "outputs": [],
   "source": [
    "def parse_results1(response):\n",
    "    \n",
    "    css_identifier_result = \".tF2Cxc\"\n",
    "    css_identifier_title = \"h3\"\n",
    "    css_identifier_link = \".yuRUbf a\"\n",
    "    css_identifier_text = \".VwiC3b\"\n",
    "    #title = response.html.find('title')\n",
    "    #print(title)\n",
    "    #print(title[0].text)\n",
    "    results = response.html.find(css_identifier_result)\n",
    "    output = []\n",
    "    for result in results:###\n",
    "        if(result.find(css_identifier_text, first=True)!=None):\n",
    "            item = {\n",
    "                'title': result.find(css_identifier_title, first=True).text,\n",
    "                'link': result.find(css_identifier_link, first=True).attrs['href'],\n",
    "                'text': result.find(css_identifier_text, first=True).text\n",
    "            }\n",
    "        \n",
    "            output.append(item)\n",
    "        \n",
    "    return output"
   ]
  },
  {
   "cell_type": "code",
   "execution_count": 8,
   "id": "84668125",
   "metadata": {},
   "outputs": [],
   "source": [
    "def google_search(query):\n",
    "    response = get_results(query)\n",
    "    return parse_results(response)"
   ]
  },
  {
   "cell_type": "code",
   "execution_count": 9,
   "id": "d51c2cea",
   "metadata": {},
   "outputs": [],
   "source": [
    "def google_search1(query):\n",
    "    response = get_results(query)\n",
    "    return parse_results1(response)"
   ]
  },
  {
   "cell_type": "code",
   "execution_count": 10,
   "id": "3a08f542",
   "metadata": {},
   "outputs": [],
   "source": [
    "#results = google_search(\"peut on ressentir du plaisir avec un petit penis ?\")\n",
    "#results"
   ]
  },
  {
   "cell_type": "code",
   "execution_count": 11,
   "id": "154d5881",
   "metadata": {
    "scrolled": true
   },
   "outputs": [],
   "source": [
    "def find_faq(question):\n",
    "    results = google_search1(question)\n",
    "    output=str(results[0][\"text\"]).replace(\"\\xa0\",\" \")\n",
    "    output=output.replace(\"janv.\", \" \")\n",
    "    output=output.replace('févr.', ' ')\n",
    "    output=output.replace('avr.', ' ')\n",
    "    output=output.replace('juill.', ' ')\n",
    "    output=output.replace(\"sept.\", \" \")\n",
    "    output=output.replace('oct.', ' ')\n",
    "    output=output.replace('nov.', ' ')\n",
    "    output=output.replace('déc.', ' ')\n",
    "    text=\"\"\n",
    "    #print(output)\n",
    "    i=0\n",
    "    tr=0\n",
    "    for e in range(0, len(output)):\n",
    "        if output[e].isupper():\n",
    "            if tr==1:\n",
    "                text=\"\"\n",
    "            i=1\n",
    "        if output[e]==\".\":\n",
    "            if str(\"?\") in str(text): \n",
    "                text=\"\"\n",
    "                tr=1\n",
    "            else:\n",
    "                if(len(text)>4):\n",
    "                    i=0\n",
    "                    text=text+\"...\"\n",
    "                    break\n",
    "                else:\n",
    "                    text=\"\"\n",
    "                    tr=1\n",
    "        if(i==1):\n",
    "            text=text+output[e]\n",
    "    return text, results[0][\"link\"]"
   ]
  },
  {
   "cell_type": "code",
   "execution_count": 12,
   "id": "796800e5",
   "metadata": {},
   "outputs": [],
   "source": [
    "def test_faq(question):\n",
    "    question=question.lower()\n",
    "    splits= question.split(\" \")\n",
    "    word=['comment','c\\'est quoi','quel','quoi','qu\\'est ce que','quels','quelle','quelles','pourquoi']\n",
    "    keyword=['ist','mst','sodomie','vih','sexe','doigter','clitoris','penis','syphilis','chatte','minou','vagin','baiser','anus',\n",
    "             'poils','couille','bouton','mycose','hepatite','pisse chaude','prevention','capote','condom','eviter','preservatif',\n",
    "            'enceinte','sperme','bebe','ecographie','cancer','testicules','seins','nichons','branlette espagnol','levrette',\n",
    "            'missionnaire','position','kamasutra','orgasme','jouir','sida','enculer','sucer','cunnilingus','masturbation',\n",
    "            'caresser','eviter','bébé','enfant','accoucher','faire l\\'amour','rapport sexuel','pilule','hygiene',\n",
    "            'epilation','raser','saigner','regle','lendemain','regle','planification familial','puceau','premiere fois','douleur'\n",
    "            ,'ventre','buccale','ovaire','spermatozoide','preliminaire','liquide', 'cyprine','mouillé','prepuce','falange'\n",
    "            ,'gode','vibro','lecher','plaisir','protection','éjaculation','précoce','retenir','sauce','abstinence','serment',\n",
    "            'saignement','sang','nettoyer','laver','anal','mal','proteger','infection','maladie','bacterie','propager','etroit',\n",
    "            'devierger','depuceler','traitement','médicament','sterilet','pharmacie','gynecologue','consultation','contamination',\n",
    "            'transmission','sterile','inpuissance','symptome','infectueux','ovaire','trompe','plan cul','coucher','avorter',\n",
    "            'complication','uterus','vulve','urine','vessie','depistage','partenaire','danger','circonsision','circonsis','point g',\n",
    "            'branlette','oral','vaccin','immunité','contaminer','embrasser','salive','gorge profonde','lesbienne','gay',\n",
    "            'fisting','sadomaso','sm','fétichisme','masochiste','trans','transexuelle','ladyboy','grossesse','avortement',\n",
    "            'déchirer','hymen','branler','crier','signe','syndrome','niquer']\n",
    "    i=0\n",
    "    for q in splits:\n",
    "        x=difflib.get_close_matches(q, word)\n",
    "        if(len(x)>0):\n",
    "            i=1\n",
    "    if(i==0):\n",
    "        return True\n",
    "    else :\n",
    "        i=0\n",
    "        for q in splits: \n",
    "            x=difflib.get_close_matches(q, keyword)\n",
    "            if(len(x)>0):\n",
    "                i=1\n",
    "        if(i==0):\n",
    "            return True\n",
    "        else:\n",
    "            return False"
   ]
  },
  {
   "cell_type": "code",
   "execution_count": 13,
   "id": "bdcb2b0d",
   "metadata": {},
   "outputs": [],
   "source": [
    "def faq(question):\n",
    "    if(test_faq(question)==False):\n",
    "        return find_faq(question)\n",
    "    else:\n",
    "        return None, None"
   ]
  },
  {
   "cell_type": "code",
   "execution_count": 14,
   "id": "d9526731",
   "metadata": {},
   "outputs": [
    {
     "name": "stdout",
     "output_type": "stream",
     "text": [
      "reponse :  Branlette est un terme très familier, voire vulgaire, que l'on utilise pour désigner la masturbation réalisée par l'homme...\n",
      "lien :  https://www.linternaute.fr/dictionnaire/fr/definition/branlette/\n"
     ]
    }
   ],
   "source": [
    "x, y = faq(\"c'est quoi la branlette?\")\n",
    "if (x==None):\n",
    "    print(\"Votre question est invalide\")\n",
    "    print(\"Veuillez reformuler svp\")\n",
    "else:\n",
    "    print(\"reponse : \", x)\n",
    "    print(\"lien : \", y )"
   ]
  },
  {
   "cell_type": "code",
   "execution_count": 15,
   "id": "da6b3281",
   "metadata": {},
   "outputs": [],
   "source": [
    "from flask import Flask, request, jsonify\n",
    "from flask_restful import Resource, Api, reqparse\n",
    "import pandas as pd\n",
    "from flask_cors import CORS\n",
    "import json\n",
    "app = Flask(__name__)\n",
    "cors = CORS(app, resources={r\"*\": {\"origins\": \"*\"}})\n",
    "api= Api(app)"
   ]
  },
  {
   "cell_type": "code",
   "execution_count": 16,
   "id": "3395b8e2",
   "metadata": {},
   "outputs": [],
   "source": [
    "# POur recuperer la reponse de la faq\n",
    "class Faq(Resource):\n",
    "    def get(self, question):\n",
    "   \n",
    "         #recuperation de la faq\n",
    "        temp1=\"None\"\n",
    "        temp2=\"None\"\n",
    "        \n",
    "        temp1, temp2 = faq(question)\n",
    "        \n",
    "        if(temp1==None and temp2==None):\n",
    "            q=question.lower()\n",
    "            q=q.replace(\" \",\"\")\n",
    "          \n",
    "            if(q==\"lamascotteestjolie\"):\n",
    "                temp1=\"merci\"\n",
    "                temp2=\" \"\n",
    "                print(q)\n",
    "        base = {'reponse': temp1,'lien':temp2}\n",
    "        \n",
    "            \n",
    "        return  jsonify(base)\n"
   ]
  },
  {
   "cell_type": "code",
   "execution_count": 17,
   "id": "5814925d",
   "metadata": {},
   "outputs": [],
   "source": [
    "##\n",
    "## Actually setup the Api resource routing here\n",
    "##\n",
    "api.add_resource(Faq, '/faq/<question>')\n"
   ]
  },
  {
   "cell_type": "code",
   "execution_count": null,
   "id": "08a83540",
   "metadata": {},
   "outputs": [
    {
     "name": "stdout",
     "output_type": "stream",
     "text": [
      " * Serving Flask app \"__main__\" (lazy loading)\n",
      " * Environment: production\n",
      "\u001b[31m   WARNING: This is a development server. Do not use it in a production deployment.\u001b[0m\n",
      "\u001b[2m   Use a production WSGI server instead.\u001b[0m\n",
      " * Debug mode: off\n"
     ]
    },
    {
     "name": "stderr",
     "output_type": "stream",
     "text": [
      " * Running on http://127.0.0.1:5000/ (Press CTRL+C to quit)\n",
      "127.0.0.1 - - [02/Dec/2022 06:49:00] \"GET /faq/c'est%20quoi%20les%20risques%20du%20sida%20 HTTP/1.1\" 200 -\n",
      "127.0.0.1 - - [02/Dec/2022 06:49:19] \"GET /faq/c'est%20quoi%20un%20mst%20 HTTP/1.1\" 200 -\n"
     ]
    }
   ],
   "source": [
    "if __name__ == '__main__':\n",
    "    app.run()  # run our Flask app"
   ]
  }
 ],
 "metadata": {
  "kernelspec": {
   "display_name": "Python 3 (ipykernel)",
   "language": "python",
   "name": "python3"
  },
  "language_info": {
   "codemirror_mode": {
    "name": "ipython",
    "version": 3
   },
   "file_extension": ".py",
   "mimetype": "text/x-python",
   "name": "python",
   "nbconvert_exporter": "python",
   "pygments_lexer": "ipython3",
   "version": "3.9.13"
  }
 },
 "nbformat": 4,
 "nbformat_minor": 5
}
